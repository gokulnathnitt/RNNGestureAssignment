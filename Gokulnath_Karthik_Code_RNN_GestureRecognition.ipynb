{
 "cells": [
  {
   "cell_type": "markdown",
   "metadata": {},
   "source": [
    "# Gesture Recognition\n",
    "In this group project, you are going to build a 3D Conv model that will be able to predict the 5 gestures correctly. Please import the following libraries to get started."
   ]
  },
  {
   "cell_type": "code",
   "execution_count": 2,
   "metadata": {},
   "outputs": [],
   "source": [
    "import numpy as np\n",
    "import os\n",
    "#from scipy.misc import imread, imresize\n",
    "from skimage.transform import resize\n",
    "from skimage.io import imread\n",
    "import datetime\n",
    "import os\n",
    "import warnings\n",
    "warnings.filterwarnings(\"ignore\")"
   ]
  },
  {
   "cell_type": "markdown",
   "metadata": {},
   "source": [
    "We set the random seed so that the results don't vary drastically."
   ]
  },
  {
   "cell_type": "code",
   "execution_count": 3,
   "metadata": {},
   "outputs": [],
   "source": [
    "np.random.seed(30)\n",
    "import random as rn\n",
    "rn.seed(30)\n",
    "from keras import backend as K\n",
    "import tensorflow as tf\n",
    "#tf.set_random_seed(30)\n",
    "tf.random.set_seed(30)"
   ]
  },
  {
   "cell_type": "markdown",
   "metadata": {},
   "source": [
    "In this block, you read the folder names for training and validation. You also set the `batch_size` here. Note that you set the batch size in such a way that you are able to use the GPU in full capacity. You keep increasing the batch size until the machine throws an error."
   ]
  },
  {
   "cell_type": "code",
   "execution_count": 4,
   "metadata": {},
   "outputs": [],
   "source": [
    "train_doc = np.random.permutation(open('datasets/Project_data/train.csv').readlines())\n",
    "val_doc = np.random.permutation(open('datasets/Project_data/val.csv').readlines())\n",
    "batch_size = 32"
   ]
  },
  {
   "cell_type": "markdown",
   "metadata": {},
   "source": [
    "## Generator\n",
    "This is one of the most important part of the code. The overall structure of the generator has been given. In the generator, you are going to preprocess the images as you have images of 2 different dimensions as well as create a batch of video frames. You have to experiment with `img_idx`, `y`,`z` and normalization such that you get high accuracy."
   ]
  },
  {
   "cell_type": "code",
   "execution_count": 5,
   "metadata": {},
   "outputs": [],
   "source": [
    "def generator(source_path, folder_list, batch_size):\n",
    "    print( 'Source path = ', source_path, '; batch size =', batch_size)\n",
    "    img_idx = [2,4,6,8,10,12,14,16,18,20,22,24,26]\n",
    "    while True:\n",
    "        t = np.random.permutation(folder_list)\n",
    "        num_batches = len(t) // batch_size # calculate the number of batches\n",
    "        for batch in range(num_batches): # we iterate over the number of batches\n",
    "            batch_data = np.zeros((batch_size,13,80,80,3)) # x is the number of images you use for each video, (y,z) is the final size of the input images and 3 is the number of channels RGB\n",
    "            batch_labels = np.zeros((batch_size,5)) # batch_labels is the one hot representation of the output\n",
    "            for folder in range(batch_size): # iterate over the batch_size\n",
    "                imgs = os.listdir(source_path+'/'+ t[folder + (batch*batch_size)].split(';')[0]) # read all the images in the folder\n",
    "                for idx,item in enumerate(img_idx): #  Iterate iver the frames/images of a folder to read them in\n",
    "                    image = imread(source_path+'/'+ t[folder + (batch*batch_size)].strip().split(';')[0]+'/'+imgs[item]).astype(np.float32)\n",
    "                    \n",
    "                    #crop the images and resize them. Note that the images are of 2 different shape \n",
    "                    image = resize(image,(80,80)).astype(np.float32)\n",
    "                    \n",
    "                    #and the conv3D will throw error if the inputs in a batch have different shapes\n",
    "                    batch_data[folder,idx,:,:,0] = (image[:,:,0])/255 #normalise and feed in the image\n",
    "                    batch_data[folder,idx,:,:,1] = (image[:,:,1])/255 #normalise and feed in the image\n",
    "                    batch_data[folder,idx,:,:,2] = (image[:,:,2])/255 #normalise and feed in the image\n",
    "                    \n",
    "                batch_labels[folder, int(t[folder + (batch*batch_size)].strip().split(';')[2])] = 1\n",
    "            yield batch_data, batch_labels #you yield the batch_data and the batch_labels, remember what does yield do\n",
    "\n",
    "        \n",
    "        # write the code for the remaining data points which are left after full batches\n",
    "        if len(t) % batch_size != 0:\n",
    "            batch_data = np.zeros((batch_size,13,80,80,3)) \n",
    "            batch_labels = np.zeros((batch_size,5)) # batch_labels is the one hot representation of the output\n",
    "            for folder in range(batch_size): # iterate over the batch_size\n",
    "                imgs = os.listdir(source_path+'/'+ t[folder + (batch*batch_size)].split(';')[0]) # read all the images in the folder\n",
    "                for idx,item in enumerate(img_idx): #  Iterate iver the frames/images of a folder to read them in\n",
    "                    image = imread(source_path+'/'+ t[folder + (batch*batch_size)].strip().split(';')[0]+'/'+imgs[item]).astype(np.float32)\n",
    "                    image = resize(image,(80,80)).astype(np.float32)\n",
    "                    batch_data[folder,idx,:,:,0] = (image[:,:,0])/255\n",
    "                    batch_data[folder,idx,:,:,1] = (image[:,:,1])/255\n",
    "                    batch_data[folder,idx,:,:,2] = (image[:,:,2])/255\n",
    "                batch_labels[folder, int(t[folder + (batch*batch_size)].strip().split(';')[2])] = 1 \n",
    "            yield batch_data, batch_labels #you yield the batch_data and the batch_labels, remember what does yield does    "
   ]
  },
  {
   "cell_type": "markdown",
   "metadata": {},
   "source": [
    "Note here that a video is represented above in the generator as (number of images, height, width, number of channels). Take this into consideration while creating the model architecture."
   ]
  },
  {
   "cell_type": "code",
   "execution_count": 6,
   "metadata": {},
   "outputs": [
    {
     "name": "stdout",
     "output_type": "stream",
     "text": [
      "# training sequences = 663\n",
      "# validation sequences = 100\n",
      "# epochs = 20\n"
     ]
    }
   ],
   "source": [
    "curr_dt_time = datetime.datetime.now()\n",
    "train_path = 'datasets/Project_data/train'\n",
    "val_path = 'datasets/Project_data/val'\n",
    "num_train_sequences = len(train_doc)\n",
    "print('# training sequences =', num_train_sequences)\n",
    "num_val_sequences = len(val_doc)\n",
    "print('# validation sequences =', num_val_sequences)\n",
    "num_epochs = 20 # choose the number of epochs\n",
    "print ('# epochs =', num_epochs)"
   ]
  },
  {
   "cell_type": "markdown",
   "metadata": {},
   "source": [
    "## First Model\n",
    "Here you make the model using different functionalities that Keras provides. Remember to use `Conv3D` and `MaxPooling3D` and not `Conv2D` and `Maxpooling2D` for a 3D convolution model. You would want to use `TimeDistributed` while building a Conv2D + RNN model. Also remember that the last layer is the softmax. Design the network in such a way that the model is able to give good accuracy on the least number of parameters so that it can fit in the memory of the webcam."
   ]
  },
  {
   "cell_type": "code",
   "execution_count": 7,
   "metadata": {},
   "outputs": [
    {
     "name": "stderr",
     "output_type": "stream",
     "text": [
      "2025-01-01 16:36:53.983181: W tensorflow/core/common_runtime/gpu/gpu_bfc_allocator.cc:39] Overriding allow_growth setting because the TF_FORCE_GPU_ALLOW_GROWTH environment variable is set. Original config value was 0.\n",
      "2025-01-01 16:36:53.983243: I tensorflow/core/common_runtime/gpu/gpu_device.cc:1525] Created device /job:localhost/replica:0/task:0/device:GPU:0 with 22855 MB memory:  -> device: 0, name: Quadro RTX 6000, pci bus id: 0000:3f:00.0, compute capability: 7.5\n"
     ]
    }
   ],
   "source": [
    "from keras.models import Sequential, Model\n",
    "from keras.layers import Dense, GRU, Flatten, TimeDistributed, Flatten, BatchNormalization, Activation\n",
    "from keras.layers.convolutional import Conv3D, MaxPooling3D\n",
    "from keras.callbacks import ModelCheckpoint, ReduceLROnPlateau\n",
    "from keras import optimizers\n",
    "from keras.layers import Dropout\n",
    "\n",
    "#write your model here\n",
    "model = Sequential()\n",
    "model.add(Conv3D(32, (3, 3, 3), padding='same',\n",
    "         input_shape=(13,80,80,3)))\n",
    "model.add(Activation('relu'))\n",
    "model.add(BatchNormalization())\n",
    "model.add(MaxPooling3D(pool_size=(2, 2, 2)))\n",
    "\n",
    "model.add(Conv3D(64, (2, 2, 2), padding='same'))\n",
    "model.add(Activation('relu'))\n",
    "model.add(BatchNormalization())\n",
    "model.add(MaxPooling3D(pool_size=(2, 2, 2)))\n",
    "\n",
    "model.add(Conv3D(128, (2, 2, 2), padding='same'))\n",
    "model.add(Activation('relu'))\n",
    "model.add(BatchNormalization())\n",
    "model.add(MaxPooling3D(pool_size=(2, 2, 2)))\n",
    "\n",
    "model.add(Flatten())\n",
    "model.add(Dense(128,activation='relu'))\n",
    "model.add(BatchNormalization())\n",
    "model.add(Dropout(0.5))\n",
    "\n",
    "model.add(Dense(64,activation='relu'))\n",
    "model.add(BatchNormalization())\n",
    "model.add(Dropout(0.25))\n",
    "\n",
    "model.add(Dense(5,activation='softmax'))"
   ]
  },
  {
   "cell_type": "markdown",
   "metadata": {},
   "source": [
    "Now that you have written the model, the next step is to `compile` the model. When you print the `summary` of the model, you'll see the total number of parameters you have to train."
   ]
  },
  {
   "cell_type": "code",
   "execution_count": 8,
   "metadata": {
    "scrolled": true
   },
   "outputs": [
    {
     "name": "stdout",
     "output_type": "stream",
     "text": [
      "Model: \"sequential\"\n",
      "_________________________________________________________________\n",
      " Layer (type)                Output Shape              Param #   \n",
      "=================================================================\n",
      " conv3d (Conv3D)             (None, 13, 80, 80, 32)    2624      \n",
      "                                                                 \n",
      " activation (Activation)     (None, 13, 80, 80, 32)    0         \n",
      "                                                                 \n",
      " batch_normalization (BatchN  (None, 13, 80, 80, 32)   128       \n",
      " ormalization)                                                   \n",
      "                                                                 \n",
      " max_pooling3d (MaxPooling3D  (None, 6, 40, 40, 32)    0         \n",
      " )                                                               \n",
      "                                                                 \n",
      " conv3d_1 (Conv3D)           (None, 6, 40, 40, 64)     16448     \n",
      "                                                                 \n",
      " activation_1 (Activation)   (None, 6, 40, 40, 64)     0         \n",
      "                                                                 \n",
      " batch_normalization_1 (Batc  (None, 6, 40, 40, 64)    256       \n",
      " hNormalization)                                                 \n",
      "                                                                 \n",
      " max_pooling3d_1 (MaxPooling  (None, 3, 20, 20, 64)    0         \n",
      " 3D)                                                             \n",
      "                                                                 \n",
      " conv3d_2 (Conv3D)           (None, 3, 20, 20, 128)    65664     \n",
      "                                                                 \n",
      " activation_2 (Activation)   (None, 3, 20, 20, 128)    0         \n",
      "                                                                 \n",
      " batch_normalization_2 (Batc  (None, 3, 20, 20, 128)   512       \n",
      " hNormalization)                                                 \n",
      "                                                                 \n",
      " max_pooling3d_2 (MaxPooling  (None, 1, 10, 10, 128)   0         \n",
      " 3D)                                                             \n",
      "                                                                 \n",
      " flatten (Flatten)           (None, 12800)             0         \n",
      "                                                                 \n",
      " dense (Dense)               (None, 128)               1638528   \n",
      "                                                                 \n",
      " batch_normalization_3 (Batc  (None, 128)              512       \n",
      " hNormalization)                                                 \n",
      "                                                                 \n",
      " dropout (Dropout)           (None, 128)               0         \n",
      "                                                                 \n",
      " dense_1 (Dense)             (None, 64)                8256      \n",
      "                                                                 \n",
      " batch_normalization_4 (Batc  (None, 64)               256       \n",
      " hNormalization)                                                 \n",
      "                                                                 \n",
      " dropout_1 (Dropout)         (None, 64)                0         \n",
      "                                                                 \n",
      " dense_2 (Dense)             (None, 5)                 325       \n",
      "                                                                 \n",
      "=================================================================\n",
      "Total params: 1,733,509\n",
      "Trainable params: 1,732,677\n",
      "Non-trainable params: 832\n",
      "_________________________________________________________________\n",
      "None\n"
     ]
    }
   ],
   "source": [
    "optimiser = 'sgd'\n",
    "model.compile(optimizer=optimiser, loss='categorical_crossentropy', metrics=['categorical_accuracy'])\n",
    "print (model.summary())"
   ]
  },
  {
   "cell_type": "markdown",
   "metadata": {},
   "source": [
    "Let us create the `train_generator` and the `val_generator` which will be used in `.fit_generator`."
   ]
  },
  {
   "cell_type": "code",
   "execution_count": 9,
   "metadata": {},
   "outputs": [],
   "source": [
    "train_generator = generator(train_path, train_doc, batch_size)\n",
    "val_generator = generator(val_path, val_doc, batch_size)"
   ]
  },
  {
   "cell_type": "code",
   "execution_count": 10,
   "metadata": {},
   "outputs": [],
   "source": [
    "model_name = 'model_init' + '_' + str(curr_dt_time).replace(' ','').replace(':','_') + '/'\n",
    "    \n",
    "if not os.path.exists(model_name):\n",
    "    os.mkdir(model_name)\n",
    "        \n",
    "filepath = model_name + 'model-{epoch:05d}-{loss:.5f}-{categorical_accuracy:.5f}-{val_loss:.5f}-{val_categorical_accuracy:.5f}.h5'\n",
    "checkpoint = ModelCheckpoint(filepath, monitor='val_loss', verbose=1, save_best_only=False, save_weights_only=False, mode='auto', save_freq='epoch')\n",
    "LR = ReduceLROnPlateau(monitor='val_loss', factor=0.2, verbose=1, patience=4)# write the REducelronplateau code here\n",
    "callbacks_list = [checkpoint, LR]"
   ]
  },
  {
   "cell_type": "markdown",
   "metadata": {},
   "source": [
    "The `steps_per_epoch` and `validation_steps` are used by `fit_generator` to decide the number of next() calls it need to make."
   ]
  },
  {
   "cell_type": "code",
   "execution_count": 11,
   "metadata": {},
   "outputs": [],
   "source": [
    "if (num_train_sequences%batch_size) == 0:\n",
    "    steps_per_epoch = int(num_train_sequences/batch_size)\n",
    "else:\n",
    "    steps_per_epoch = (num_train_sequences//batch_size) + 1\n",
    "\n",
    "if (num_val_sequences%batch_size) == 0:\n",
    "    validation_steps = int(num_val_sequences/batch_size)\n",
    "else:\n",
    "    validation_steps = (num_val_sequences//batch_size) + 1"
   ]
  },
  {
   "cell_type": "markdown",
   "metadata": {},
   "source": [
    "Let us now fit the model. This will start training the model and with the help of the checkpoints, you'll be able to save the model at the end of each epoch."
   ]
  },
  {
   "cell_type": "code",
   "execution_count": 12,
   "metadata": {},
   "outputs": [
    {
     "name": "stdout",
     "output_type": "stream",
     "text": [
      "Source path =  datasets/Project_data/train ; batch size = 32\n",
      "Epoch 1/20\n"
     ]
    },
    {
     "name": "stderr",
     "output_type": "stream",
     "text": [
      "2025-01-01 16:36:59.961051: I tensorflow/stream_executor/cuda/cuda_dnn.cc:377] Loaded cuDNN version 8302\n"
     ]
    },
    {
     "name": "stdout",
     "output_type": "stream",
     "text": [
      "21/21 [==============================] - ETA: 0s - loss: 1.8102 - categorical_accuracy: 0.3616Source path =  datasets/Project_data/val ; batch size = 32\n",
      "\n",
      "Epoch 00001: saving model to model_init_2025-01-0116_36_52.990735/model-00001-1.81025-0.36161-1.59535-0.28125.h5\n",
      "21/21 [==============================] - 96s 5s/step - loss: 1.8102 - categorical_accuracy: 0.3616 - val_loss: 1.5953 - val_categorical_accuracy: 0.2812 - lr: 0.0100\n",
      "Epoch 2/20\n",
      "21/21 [==============================] - ETA: 0s - loss: 1.3008 - categorical_accuracy: 0.4955\n",
      "Epoch 00002: saving model to model_init_2025-01-0116_36_52.990735/model-00002-1.30084-0.49554-1.90084-0.24219.h5\n",
      "21/21 [==============================] - 82s 4s/step - loss: 1.3008 - categorical_accuracy: 0.4955 - val_loss: 1.9008 - val_categorical_accuracy: 0.2422 - lr: 0.0100\n",
      "Epoch 3/20\n",
      "21/21 [==============================] - ETA: 0s - loss: 1.1187 - categorical_accuracy: 0.5923\n",
      "Epoch 00003: saving model to model_init_2025-01-0116_36_52.990735/model-00003-1.11874-0.59226-2.62312-0.17188.h5\n",
      "21/21 [==============================] - 71s 4s/step - loss: 1.1187 - categorical_accuracy: 0.5923 - val_loss: 2.6231 - val_categorical_accuracy: 0.1719 - lr: 0.0100\n",
      "Epoch 4/20\n",
      "21/21 [==============================] - ETA: 0s - loss: 0.9284 - categorical_accuracy: 0.6577\n",
      "Epoch 00004: saving model to model_init_2025-01-0116_36_52.990735/model-00004-0.92840-0.65774-3.06049-0.17969.h5\n",
      "21/21 [==============================] - 70s 4s/step - loss: 0.9284 - categorical_accuracy: 0.6577 - val_loss: 3.0605 - val_categorical_accuracy: 0.1797 - lr: 0.0100\n",
      "Epoch 5/20\n",
      "21/21 [==============================] - ETA: 0s - loss: 0.8576 - categorical_accuracy: 0.6607\n",
      "Epoch 00005: saving model to model_init_2025-01-0116_36_52.990735/model-00005-0.85762-0.66071-3.68734-0.14844.h5\n",
      "\n",
      "Epoch 00005: ReduceLROnPlateau reducing learning rate to 0.0019999999552965165.\n",
      "21/21 [==============================] - 70s 3s/step - loss: 0.8576 - categorical_accuracy: 0.6607 - val_loss: 3.6873 - val_categorical_accuracy: 0.1484 - lr: 0.0100\n",
      "Epoch 6/20\n",
      "21/21 [==============================] - ETA: 0s - loss: 0.6999 - categorical_accuracy: 0.7574\n",
      "Epoch 00006: saving model to model_init_2025-01-0116_36_52.990735/model-00006-0.69992-0.75744-4.27692-0.14062.h5\n",
      "21/21 [==============================] - 72s 4s/step - loss: 0.6999 - categorical_accuracy: 0.7574 - val_loss: 4.2769 - val_categorical_accuracy: 0.1406 - lr: 0.0020\n",
      "Epoch 7/20\n",
      "21/21 [==============================] - ETA: 0s - loss: 0.6418 - categorical_accuracy: 0.7560\n",
      "Epoch 00007: saving model to model_init_2025-01-0116_36_52.990735/model-00007-0.64184-0.75595-4.28356-0.18750.h5\n",
      "21/21 [==============================] - 71s 4s/step - loss: 0.6418 - categorical_accuracy: 0.7560 - val_loss: 4.2836 - val_categorical_accuracy: 0.1875 - lr: 0.0020\n",
      "Epoch 8/20\n",
      "21/21 [==============================] - ETA: 0s - loss: 0.6372 - categorical_accuracy: 0.7619\n",
      "Epoch 00008: saving model to model_init_2025-01-0116_36_52.990735/model-00008-0.63723-0.76190-4.22834-0.17969.h5\n",
      "21/21 [==============================] - 69s 3s/step - loss: 0.6372 - categorical_accuracy: 0.7619 - val_loss: 4.2283 - val_categorical_accuracy: 0.1797 - lr: 0.0020\n",
      "Epoch 9/20\n",
      "21/21 [==============================] - ETA: 0s - loss: 0.6004 - categorical_accuracy: 0.7738\n",
      "Epoch 00009: saving model to model_init_2025-01-0116_36_52.990735/model-00009-0.60045-0.77381-4.18687-0.14062.h5\n",
      "\n",
      "Epoch 00009: ReduceLROnPlateau reducing learning rate to 0.0003999999724328518.\n",
      "21/21 [==============================] - 69s 3s/step - loss: 0.6004 - categorical_accuracy: 0.7738 - val_loss: 4.1869 - val_categorical_accuracy: 0.1406 - lr: 0.0020\n",
      "Epoch 10/20\n",
      "21/21 [==============================] - ETA: 0s - loss: 0.6261 - categorical_accuracy: 0.7604\n",
      "Epoch 00010: saving model to model_init_2025-01-0116_36_52.990735/model-00010-0.62606-0.76042-4.05302-0.10938.h5\n",
      "21/21 [==============================] - 71s 4s/step - loss: 0.6261 - categorical_accuracy: 0.7604 - val_loss: 4.0530 - val_categorical_accuracy: 0.1094 - lr: 4.0000e-04\n",
      "Epoch 11/20\n",
      "21/21 [==============================] - ETA: 0s - loss: 0.5843 - categorical_accuracy: 0.7708\n",
      "Epoch 00011: saving model to model_init_2025-01-0116_36_52.990735/model-00011-0.58429-0.77083-3.65804-0.19531.h5\n",
      "21/21 [==============================] - 70s 4s/step - loss: 0.5843 - categorical_accuracy: 0.7708 - val_loss: 3.6580 - val_categorical_accuracy: 0.1953 - lr: 4.0000e-04\n",
      "Epoch 12/20\n",
      "21/21 [==============================] - ETA: 0s - loss: 0.5547 - categorical_accuracy: 0.8170\n",
      "Epoch 00012: saving model to model_init_2025-01-0116_36_52.990735/model-00012-0.55474-0.81696-3.23972-0.19531.h5\n",
      "21/21 [==============================] - 70s 3s/step - loss: 0.5547 - categorical_accuracy: 0.8170 - val_loss: 3.2397 - val_categorical_accuracy: 0.1953 - lr: 4.0000e-04\n",
      "Epoch 13/20\n",
      "21/21 [==============================] - ETA: 0s - loss: 0.5716 - categorical_accuracy: 0.7961\n",
      "Epoch 00013: saving model to model_init_2025-01-0116_36_52.990735/model-00013-0.57157-0.79613-3.02131-0.24219.h5\n",
      "\n",
      "Epoch 00013: ReduceLROnPlateau reducing learning rate to 7.999999215826393e-05.\n",
      "21/21 [==============================] - 68s 3s/step - loss: 0.5716 - categorical_accuracy: 0.7961 - val_loss: 3.0213 - val_categorical_accuracy: 0.2422 - lr: 4.0000e-04\n",
      "Epoch 14/20\n",
      "21/21 [==============================] - ETA: 0s - loss: 0.5750 - categorical_accuracy: 0.7842\n",
      "Epoch 00014: saving model to model_init_2025-01-0116_36_52.990735/model-00014-0.57500-0.78423-2.82216-0.25000.h5\n",
      "21/21 [==============================] - 70s 4s/step - loss: 0.5750 - categorical_accuracy: 0.7842 - val_loss: 2.8222 - val_categorical_accuracy: 0.2500 - lr: 8.0000e-05\n",
      "Epoch 15/20\n",
      "21/21 [==============================] - ETA: 0s - loss: 0.5396 - categorical_accuracy: 0.8125\n",
      "Epoch 00015: saving model to model_init_2025-01-0116_36_52.990735/model-00015-0.53958-0.81250-2.55027-0.27344.h5\n",
      "21/21 [==============================] - 72s 4s/step - loss: 0.5396 - categorical_accuracy: 0.8125 - val_loss: 2.5503 - val_categorical_accuracy: 0.2734 - lr: 8.0000e-05\n",
      "Epoch 16/20\n",
      "21/21 [==============================] - ETA: 0s - loss: 0.5064 - categorical_accuracy: 0.8199\n",
      "Epoch 00016: saving model to model_init_2025-01-0116_36_52.990735/model-00016-0.50638-0.81994-2.25424-0.29688.h5\n",
      "21/21 [==============================] - 70s 3s/step - loss: 0.5064 - categorical_accuracy: 0.8199 - val_loss: 2.2542 - val_categorical_accuracy: 0.2969 - lr: 8.0000e-05\n",
      "Epoch 17/20\n",
      "21/21 [==============================] - ETA: 0s - loss: 0.5672 - categorical_accuracy: 0.7842\n",
      "Epoch 00017: saving model to model_init_2025-01-0116_36_52.990735/model-00017-0.56719-0.78423-1.96335-0.35156.h5\n",
      "\n",
      "Epoch 00017: ReduceLROnPlateau reducing learning rate to 1.599999814061448e-05.\n",
      "21/21 [==============================] - 70s 3s/step - loss: 0.5672 - categorical_accuracy: 0.7842 - val_loss: 1.9633 - val_categorical_accuracy: 0.3516 - lr: 8.0000e-05\n",
      "Epoch 18/20\n",
      "21/21 [==============================] - ETA: 0s - loss: 0.5958 - categorical_accuracy: 0.7753\n",
      "Epoch 00018: saving model to model_init_2025-01-0116_36_52.990735/model-00018-0.59579-0.77530-1.99022-0.32031.h5\n",
      "21/21 [==============================] - 70s 3s/step - loss: 0.5958 - categorical_accuracy: 0.7753 - val_loss: 1.9902 - val_categorical_accuracy: 0.3203 - lr: 1.6000e-05\n",
      "Epoch 19/20\n",
      "21/21 [==============================] - ETA: 0s - loss: 0.5668 - categorical_accuracy: 0.7932\n",
      "Epoch 00019: saving model to model_init_2025-01-0116_36_52.990735/model-00019-0.56678-0.79315-1.60176-0.39844.h5\n",
      "21/21 [==============================] - 71s 4s/step - loss: 0.5668 - categorical_accuracy: 0.7932 - val_loss: 1.6018 - val_categorical_accuracy: 0.3984 - lr: 1.6000e-05\n",
      "Epoch 20/20\n",
      "21/21 [==============================] - ETA: 0s - loss: 0.5365 - categorical_accuracy: 0.8051\n",
      "Epoch 00020: saving model to model_init_2025-01-0116_36_52.990735/model-00020-0.53645-0.80506-1.56395-0.35938.h5\n",
      "21/21 [==============================] - 71s 4s/step - loss: 0.5365 - categorical_accuracy: 0.8051 - val_loss: 1.5639 - val_categorical_accuracy: 0.3594 - lr: 1.6000e-05\n"
     ]
    }
   ],
   "source": [
    "history = model.fit_generator(train_generator, steps_per_epoch=steps_per_epoch, epochs=num_epochs, verbose=1, \n",
    "                    callbacks=callbacks_list, validation_data=val_generator, \n",
    "                    validation_steps=validation_steps, class_weight=None, workers=1, initial_epoch=0)"
   ]
  },
  {
   "cell_type": "code",
   "execution_count": 13,
   "metadata": {},
   "outputs": [
    {
     "name": "stdout",
     "output_type": "stream",
     "text": [
      "Total Params: 1733509\n"
     ]
    }
   ],
   "source": [
    "print(\"Total Params:\", model.count_params())"
   ]
  },
  {
   "cell_type": "code",
   "execution_count": 14,
   "metadata": {},
   "outputs": [
    {
     "data": {
      "text/plain": [
       "<Figure size 720x720 with 0 Axes>"
      ]
     },
     "metadata": {},
     "output_type": "display_data"
    },
    {
     "data": {
      "image/png": "[encoded data removed]",
      "text/plain": [
       "<Figure size 576x576 with 2 Axes>"
      ]
     },
     "metadata": {
      "needs_background": "light"
     },
     "output_type": "display_data"
    }
   ],
   "source": [
    "import matplotlib.pyplot as plt\n",
    "\n",
    "plt.figure(figsize = (10,10))\n",
    "\n",
    "acc = history.history['categorical_accuracy']\n",
    "val_acc = history.history['val_categorical_accuracy']\n",
    "\n",
    "loss = history.history['loss']\n",
    "val_loss = history.history['val_loss']\n",
    "\n",
    "epochs_range = range(num_epochs)\n",
    "\n",
    "plt.figure(figsize=(8, 8))\n",
    "plt.subplot(1, 2, 1)\n",
    "plt.plot(epochs_range, acc, label='Training Accuracy')\n",
    "plt.plot(epochs_range, val_acc, label='Validation Accuracy')\n",
    "plt.legend(loc='lower right')\n",
    "plt.title('Training and Validation Accuracy')\n",
    "\n",
    "plt.subplot(1, 2, 2)\n",
    "plt.plot(epochs_range, loss, label='Training Loss')\n",
    "plt.plot(epochs_range, val_loss, label='Validation Loss')\n",
    "plt.legend(loc='upper right')\n",
    "plt.title('Training and Validation Loss')\n",
    "plt.show()"
   ]
  },
  {
   "cell_type": "markdown",
   "metadata": {},
   "source": [
    "#### Second Model\r\n",
    "In previous model we saw that validation accuracy is increased compared to the previous model. This concludes no of epochs increased do not help much in improving the model which is overfitting.\n",
    "\n",
    "Now we will try to implement the CNN + LSTM model and will compare the results with the second model which had highest validation accuracy.\n",
    "\n",
    "\n",
    "In previous model model is having overall less training and validation accuracy, but we see steady trend in increasing the training and validation accuracy. Adding more epochs can help here to further improve the accuracy."
   ]
  },
  {
   "cell_type": "code",
   "execution_count": 17,
   "metadata": {},
   "outputs": [],
   "source": [
    "from keras.layers.recurrent import LSTM\n",
    "\n",
    "#write your model here\n",
    "model = Sequential()\n",
    "model.add(Conv3D(32, (3, 3, 3), padding='same',\n",
    "         input_shape=(13,80,80,3)))\n",
    "model.add(Activation('relu'))\n",
    "model.add(BatchNormalization())\n",
    "model.add(MaxPooling3D(pool_size=(2, 2, 2)))\n",
    "\n",
    "model.add(Conv3D(64, (2, 2, 2), padding='same'))\n",
    "model.add(Activation('relu'))\n",
    "model.add(BatchNormalization())\n",
    "model.add(MaxPooling3D(pool_size=(2, 2, 2)))\n",
    "\n",
    "model.add(Conv3D(128, (2, 2, 2), padding='same'))\n",
    "model.add(Activation('relu'))\n",
    "model.add(BatchNormalization())\n",
    "model.add(MaxPooling3D(pool_size=(2, 2, 2)))\n",
    "\n",
    "model.add(TimeDistributed(Flatten()))\n",
    "model.add(LSTM(128))\n",
    "model.add(Dropout(0.5))\n",
    "\n",
    "model.add(Dense(64,activation='relu'))\n",
    "model.add(BatchNormalization())\n",
    "model.add(Dropout(0.25))\n",
    "\n",
    "model.add(Dense(5,activation='softmax'))"
   ]
  },
  {
   "cell_type": "code",
   "execution_count": 18,
   "metadata": {},
   "outputs": [
    {
     "name": "stdout",
     "output_type": "stream",
     "text": [
      "WARNING:tensorflow:`period` argument is deprecated. Please use `save_freq` to specify the frequency in number of batches seen.\n",
      "Model: \"sequential_1\"\n",
      "_________________________________________________________________\n",
      " Layer (type)                Output Shape              Param #   \n",
      "=================================================================\n",
      " conv3d_3 (Conv3D)           (None, 13, 80, 80, 32)    2624      \n",
      "                                                                 \n",
      " activation_3 (Activation)   (None, 13, 80, 80, 32)    0         \n",
      "                                                                 \n",
      " batch_normalization_5 (Batc  (None, 13, 80, 80, 32)   128       \n",
      " hNormalization)                                                 \n",
      "                                                                 \n",
      " max_pooling3d_3 (MaxPooling  (None, 6, 40, 40, 32)    0         \n",
      " 3D)                                                             \n",
      "                                                                 \n",
      " conv3d_4 (Conv3D)           (None, 6, 40, 40, 64)     16448     \n",
      "                                                                 \n",
      " activation_4 (Activation)   (None, 6, 40, 40, 64)     0         \n",
      "                                                                 \n",
      " batch_normalization_6 (Batc  (None, 6, 40, 40, 64)    256       \n",
      " hNormalization)                                                 \n",
      "                                                                 \n",
      " max_pooling3d_4 (MaxPooling  (None, 3, 20, 20, 64)    0         \n",
      " 3D)                                                             \n",
      "                                                                 \n",
      " conv3d_5 (Conv3D)           (None, 3, 20, 20, 128)    65664     \n",
      "                                                                 \n",
      " activation_5 (Activation)   (None, 3, 20, 20, 128)    0         \n",
      "                                                                 \n",
      " batch_normalization_7 (Batc  (None, 3, 20, 20, 128)   512       \n",
      " hNormalization)                                                 \n",
      "                                                                 \n",
      " max_pooling3d_5 (MaxPooling  (None, 1, 10, 10, 128)   0         \n",
      " 3D)                                                             \n",
      "                                                                 \n",
      " time_distributed (TimeDistr  (None, 1, 12800)         0         \n",
      " ibuted)                                                         \n",
      "                                                                 \n",
      " lstm (LSTM)                 (None, 128)               6619648   \n",
      "                                                                 \n",
      " dropout_2 (Dropout)         (None, 128)               0         \n",
      "                                                                 \n",
      " dense_3 (Dense)             (None, 64)                8256      \n",
      "                                                                 \n",
      " batch_normalization_8 (Batc  (None, 64)               256       \n",
      " hNormalization)                                                 \n",
      "                                                                 \n",
      " dropout_3 (Dropout)         (None, 64)                0         \n",
      "                                                                 \n",
      " dense_4 (Dense)             (None, 5)                 325       \n",
      "                                                                 \n",
      "=================================================================\n",
      "Total params: 6,714,117\n",
      "Trainable params: 6,713,541\n",
      "Non-trainable params: 576\n",
      "_________________________________________________________________\n",
      "None\n"
     ]
    }
   ],
   "source": [
    "batch_size = 32\n",
    "train_generator = generator(train_path, train_doc, batch_size)\n",
    "val_generator = generator(val_path, val_doc, batch_size)\n",
    "\n",
    "model_name = 'model_init' + '_' + str(curr_dt_time).replace(' ','').replace(':','_') + '/'\n",
    "    \n",
    "if not os.path.exists(model_name):\n",
    "    os.mkdir(model_name)\n",
    "        \n",
    "filepath = model_name + 'model-{epoch:05d}-{loss:.5f}-{categorical_accuracy:.5f}-{val_loss:.5f}-{val_categorical_accuracy:.5f}.h5'\n",
    "checkpoint = ModelCheckpoint(filepath, monitor='val_loss', verbose=1, save_best_only=False, save_weights_only=False, mode='auto', period=1)\n",
    "LR = ReduceLROnPlateau(monitor='val_loss', factor=0.2, verbose=1, patience=4)# write the REducelronplateau code here\n",
    "callbacks_list = [checkpoint, LR]\n",
    "\n",
    "optimiser = 'sgd'\n",
    "model.compile(optimizer=optimiser, loss='categorical_crossentropy', metrics=['categorical_accuracy'])\n",
    "print (model.summary())"
   ]
  },
  {
   "cell_type": "code",
   "execution_count": 19,
   "metadata": {},
   "outputs": [],
   "source": [
    "steps_per_epoch=0\n",
    "validation_steps=0\n",
    "if (num_train_sequences%new_batch_size) == 0:\n",
    "    steps_per_epoch = int(num_train_sequences/new_batch_size)\n",
    "else:\n",
    "    steps_per_epoch = (num_train_sequences//new_batch_size) + 1\n",
    "\n",
    "if (num_val_sequences%new_batch_size) == 0:\n",
    "    validation_steps = int(num_val_sequences/new_batch_size)\n",
    "else:\n",
    "    validation_steps = (num_val_sequences//new_batch_size) + 1"
   ]
  },
  {
   "cell_type": "code",
   "execution_count": 20,
   "metadata": {},
   "outputs": [
    {
     "name": "stdout",
     "output_type": "stream",
     "text": [
      "Source path =  datasets/Project_data/train ; batch size = 32\n",
      "Epoch 1/20\n",
      "11/11 [==============================] - ETA: 0s - loss: 2.0143 - categorical_accuracy: 0.2415Source path =  datasets/Project_data/val ; batch size = 32\n",
      "\n",
      "Epoch 00001: saving model to model_init_2025-01-0116_36_52.990735/model-00001-2.01431-0.24148-1.60492-0.21875.h5\n",
      "11/11 [==============================] - 41s 4s/step - loss: 2.0143 - categorical_accuracy: 0.2415 - val_loss: 1.6049 - val_categorical_accuracy: 0.2188 - lr: 0.0100\n",
      "Epoch 2/20\n",
      "11/11 [==============================] - ETA: 0s - loss: 1.7924 - categorical_accuracy: 0.3182\n",
      "Epoch 00002: saving model to model_init_2025-01-0116_36_52.990735/model-00002-1.79239-0.31818-1.60002-0.29688.h5\n",
      "11/11 [==============================] - 35s 4s/step - loss: 1.7924 - categorical_accuracy: 0.3182 - val_loss: 1.6000 - val_categorical_accuracy: 0.2969 - lr: 0.0100\n",
      "Epoch 3/20\n",
      "11/11 [==============================] - ETA: 0s - loss: 1.8072 - categorical_accuracy: 0.2841\n",
      "Epoch 00003: saving model to model_init_2025-01-0116_36_52.990735/model-00003-1.80718-0.28409-1.60414-0.25000.h5\n",
      "11/11 [==============================] - 37s 4s/step - loss: 1.8072 - categorical_accuracy: 0.2841 - val_loss: 1.6041 - val_categorical_accuracy: 0.2500 - lr: 0.0100\n",
      "Epoch 4/20\n",
      "11/11 [==============================] - ETA: 0s - loss: 1.6964 - categorical_accuracy: 0.3324\n",
      "Epoch 00004: saving model to model_init_2025-01-0116_36_52.990735/model-00004-1.69640-0.33239-1.57396-0.37500.h5\n",
      "11/11 [==============================] - 37s 4s/step - loss: 1.6964 - categorical_accuracy: 0.3324 - val_loss: 1.5740 - val_categorical_accuracy: 0.3750 - lr: 0.0100\n",
      "Epoch 5/20\n",
      "11/11 [==============================] - ETA: 0s - loss: 1.4921 - categorical_accuracy: 0.4290\n",
      "Epoch 00005: saving model to model_init_2025-01-0116_36_52.990735/model-00005-1.49214-0.42898-1.58736-0.25000.h5\n",
      "11/11 [==============================] - 37s 4s/step - loss: 1.4921 - categorical_accuracy: 0.4290 - val_loss: 1.5874 - val_categorical_accuracy: 0.2500 - lr: 0.0100\n",
      "Epoch 6/20\n",
      "11/11 [==============================] - ETA: 0s - loss: 1.6026 - categorical_accuracy: 0.3722\n",
      "Epoch 00006: saving model to model_init_2025-01-0116_36_52.990735/model-00006-1.60260-0.37216-1.58278-0.21875.h5\n",
      "11/11 [==============================] - 38s 4s/step - loss: 1.6026 - categorical_accuracy: 0.3722 - val_loss: 1.5828 - val_categorical_accuracy: 0.2188 - lr: 0.0100\n",
      "Epoch 7/20\n",
      "11/11 [==============================] - ETA: 0s - loss: 1.3852 - categorical_accuracy: 0.4432\n",
      "Epoch 00007: saving model to model_init_2025-01-0116_36_52.990735/model-00007-1.38518-0.44318-1.56604-0.34375.h5\n",
      "11/11 [==============================] - 36s 4s/step - loss: 1.3852 - categorical_accuracy: 0.4432 - val_loss: 1.5660 - val_categorical_accuracy: 0.3438 - lr: 0.0100\n",
      "Epoch 8/20\n",
      "11/11 [==============================] - ETA: 0s - loss: 1.2441 - categorical_accuracy: 0.4943\n",
      "Epoch 00008: saving model to model_init_2025-01-0116_36_52.990735/model-00008-1.24405-0.49432-1.62350-0.18750.h5\n",
      "11/11 [==============================] - 37s 4s/step - loss: 1.2441 - categorical_accuracy: 0.4943 - val_loss: 1.6235 - val_categorical_accuracy: 0.1875 - lr: 0.0100\n",
      "Epoch 9/20\n",
      "11/11 [==============================] - ETA: 0s - loss: 1.2840 - categorical_accuracy: 0.5000\n",
      "Epoch 00009: saving model to model_init_2025-01-0116_36_52.990735/model-00009-1.28400-0.50000-1.62819-0.20312.h5\n",
      "11/11 [==============================] - 36s 4s/step - loss: 1.2840 - categorical_accuracy: 0.5000 - val_loss: 1.6282 - val_categorical_accuracy: 0.2031 - lr: 0.0100\n",
      "Epoch 10/20\n",
      "11/11 [==============================] - ETA: 0s - loss: 1.3087 - categorical_accuracy: 0.4830\n",
      "Epoch 00010: saving model to model_init_2025-01-0116_36_52.990735/model-00010-1.30874-0.48295-1.63182-0.26562.h5\n",
      "11/11 [==============================] - 38s 4s/step - loss: 1.3087 - categorical_accuracy: 0.4830 - val_loss: 1.6318 - val_categorical_accuracy: 0.2656 - lr: 0.0100\n",
      "Epoch 11/20\n",
      "11/11 [==============================] - ETA: 0s - loss: 1.2726 - categorical_accuracy: 0.4574\n",
      "Epoch 00011: saving model to model_init_2025-01-0116_36_52.990735/model-00011-1.27265-0.45739-1.58756-0.31250.h5\n",
      "\n",
      "Epoch 00011: ReduceLROnPlateau reducing learning rate to 0.0019999999552965165.\n",
      "11/11 [==============================] - 36s 4s/step - loss: 1.2726 - categorical_accuracy: 0.4574 - val_loss: 1.5876 - val_categorical_accuracy: 0.3125 - lr: 0.0100\n",
      "Epoch 12/20\n",
      "11/11 [==============================] - ETA: 0s - loss: 1.1497 - categorical_accuracy: 0.5455\n",
      "Epoch 00012: saving model to model_init_2025-01-0116_36_52.990735/model-00012-1.14965-0.54545-1.62761-0.28125.h5\n",
      "11/11 [==============================] - 36s 4s/step - loss: 1.1497 - categorical_accuracy: 0.5455 - val_loss: 1.6276 - val_categorical_accuracy: 0.2812 - lr: 0.0020\n",
      "Epoch 13/20\n",
      "11/11 [==============================] - ETA: 0s - loss: 1.1284 - categorical_accuracy: 0.5568\n",
      "Epoch 00013: saving model to model_init_2025-01-0116_36_52.990735/model-00013-1.12837-0.55682-1.63996-0.29688.h5\n",
      "11/11 [==============================] - 38s 4s/step - loss: 1.1284 - categorical_accuracy: 0.5568 - val_loss: 1.6400 - val_categorical_accuracy: 0.2969 - lr: 0.0020\n",
      "Epoch 14/20\n",
      "11/11 [==============================] - ETA: 0s - loss: 1.0928 - categorical_accuracy: 0.5597\n",
      "Epoch 00014: saving model to model_init_2025-01-0116_36_52.990735/model-00014-1.09285-0.55966-1.65807-0.25000.h5\n",
      "11/11 [==============================] - 38s 4s/step - loss: 1.0928 - categorical_accuracy: 0.5597 - val_loss: 1.6581 - val_categorical_accuracy: 0.2500 - lr: 0.0020\n",
      "Epoch 15/20\n",
      "11/11 [==============================] - ETA: 0s - loss: 1.0383 - categorical_accuracy: 0.5852\n",
      "Epoch 00015: saving model to model_init_2025-01-0116_36_52.990735/model-00015-1.03834-0.58523-1.77036-0.15625.h5\n",
      "\n",
      "Epoch 00015: ReduceLROnPlateau reducing learning rate to 0.0003999999724328518.\n",
      "11/11 [==============================] - 37s 4s/step - loss: 1.0383 - categorical_accuracy: 0.5852 - val_loss: 1.7704 - val_categorical_accuracy: 0.1562 - lr: 0.0020\n",
      "Epoch 16/20\n",
      "11/11 [==============================] - ETA: 0s - loss: 1.0398 - categorical_accuracy: 0.5455\n",
      "Epoch 00016: saving model to model_init_2025-01-0116_36_52.990735/model-00016-1.03978-0.54545-1.61876-0.32812.h5\n",
      "11/11 [==============================] - 35s 3s/step - loss: 1.0398 - categorical_accuracy: 0.5455 - val_loss: 1.6188 - val_categorical_accuracy: 0.3281 - lr: 4.0000e-04\n",
      "Epoch 17/20\n",
      "11/11 [==============================] - ETA: 0s - loss: 0.9621 - categorical_accuracy: 0.6051\n",
      "Epoch 00017: saving model to model_init_2025-01-0116_36_52.990735/model-00017-0.96213-0.60511-1.70593-0.25000.h5\n",
      "11/11 [==============================] - 38s 4s/step - loss: 0.9621 - categorical_accuracy: 0.6051 - val_loss: 1.7059 - val_categorical_accuracy: 0.2500 - lr: 4.0000e-04\n",
      "Epoch 18/20\n",
      "11/11 [==============================] - ETA: 0s - loss: 1.0223 - categorical_accuracy: 0.6023\n",
      "Epoch 00018: saving model to model_init_2025-01-0116_36_52.990735/model-00018-1.02232-0.60227-1.71717-0.21875.h5\n",
      "11/11 [==============================] - 37s 4s/step - loss: 1.0223 - categorical_accuracy: 0.6023 - val_loss: 1.7172 - val_categorical_accuracy: 0.2188 - lr: 4.0000e-04\n",
      "Epoch 19/20\n",
      "11/11 [==============================] - ETA: 0s - loss: 1.0788 - categorical_accuracy: 0.5426\n",
      "Epoch 00019: saving model to model_init_2025-01-0116_36_52.990735/model-00019-1.07884-0.54261-1.68743-0.21875.h5\n",
      "\n",
      "Epoch 00019: ReduceLROnPlateau reducing learning rate to 7.999999215826393e-05.\n",
      "11/11 [==============================] - 35s 4s/step - loss: 1.0788 - categorical_accuracy: 0.5426 - val_loss: 1.6874 - val_categorical_accuracy: 0.2188 - lr: 4.0000e-04\n",
      "Epoch 20/20\n",
      "11/11 [==============================] - ETA: 0s - loss: 0.9930 - categorical_accuracy: 0.5966\n",
      "Epoch 00020: saving model to model_init_2025-01-0116_36_52.990735/model-00020-0.99296-0.59659-1.67992-0.21875.h5\n",
      "11/11 [==============================] - 37s 4s/step - loss: 0.9930 - categorical_accuracy: 0.5966 - val_loss: 1.6799 - val_categorical_accuracy: 0.2188 - lr: 8.0000e-05\n"
     ]
    }
   ],
   "source": [
    "num_epochs6=20\n",
    "history6 = model.fit_generator(train_generator, steps_per_epoch=steps_per_epoch, epochs=num_epochs6, verbose=1, \n",
    "                    callbacks=callbacks_list, validation_data=val_generator, \n",
    "                    validation_steps=validation_steps, class_weight=None, workers=1, initial_epoch=0)"
   ]
  },
  {
   "cell_type": "code",
   "execution_count": 21,
   "metadata": {},
   "outputs": [
    {
     "data": {
      "text/plain": [
       "<Figure size 720x720 with 0 Axes>"
      ]
     },
     "metadata": {},
     "output_type": "display_data"
    },
    {
     "data": {
      "image/png": "[encoded data removed]",
      "text/plain": [
       "<Figure size 576x576 with 2 Axes>"
      ]
     },
     "metadata": {
      "needs_background": "light"
     },
     "output_type": "display_data"
    }
   ],
   "source": [
    "plt.figure(figsize = (10,10))\n",
    "\n",
    "acc = history6.history['categorical_accuracy']\n",
    "val_acc = history6.history['val_categorical_accuracy']\n",
    "\n",
    "loss = history6.history['loss']\n",
    "val_loss = history6.history['val_loss']\n",
    "\n",
    "epochs_range = range(num_epochs6)\n",
    "\n",
    "plt.figure(figsize=(8, 8))\n",
    "plt.subplot(1, 2, 1)\n",
    "plt.plot(epochs_range, acc, label='Training Accuracy')\n",
    "plt.plot(epochs_range, val_acc, label='Validation Accuracy')\n",
    "plt.legend(loc='lower right')\n",
    "plt.title('Training and Validation Accuracy')\n",
    "\n",
    "plt.subplot(1, 2, 2)\n",
    "plt.plot(epochs_range, loss, label='Training Loss')\n",
    "plt.plot(epochs_range, val_loss, label='Validation Loss')\n",
    "plt.legend(loc='upper right')\n",
    "plt.title('Training and Validation Loss')\n",
    "plt.show()"
   ]
  },
  {
   "cell_type": "markdown",
   "metadata": {},
   "source": [
    "This model did reach good training as well as validation accuracy. Training Accuracy = 0.96 Validation Accuracy = 0.83"
   ]
  }
 ],
 "metadata": {
  "kernelspec": {
   "display_name": "Python 3 (ipykernel)",
   "language": "python",
   "name": "python3"
  },
  "language_info": {
   "codemirror_mode": {
    "name": "ipython",
    "version": 3
   },
   "file_extension": ".py",
   "mimetype": "text/x-python",
   "name": "python",
   "nbconvert_exporter": "python",
   "pygments_lexer": "ipython3",
   "version": "3.8.10"
  }
 },
 "nbformat": 4,
 "nbformat_minor": 4
}
